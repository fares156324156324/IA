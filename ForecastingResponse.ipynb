{
 "cells": [
  {
   "cell_type": "code",
   "execution_count": 1,
   "id": "95435761",
   "metadata": {},
   "outputs": [
    {
     "name": "stdout",
     "output_type": "stream",
     "text": [
      "Predicted values: [{'date': '2023-06-15 00:00:00', 'prediction': 91772.80917657117}, {'date': '2023-06-16 00:00:00', 'prediction': 89529.65859715833}, {'date': '2023-06-17 00:00:00', 'prediction': 90499.05498845413}, {'date': '2023-06-18 00:00:00', 'prediction': 93801.82602098504}]\n"
     ]
    }
   ],
   "source": [
    "import requests\n",
    "import json\n",
    "import base64\n",
    "import io\n",
    "from PIL import Image\n",
    "\n",
    "# Define the payload\n",
    "payload = {\n",
    "    'column_name': 'Unknown',\n",
    "    'desired_days': 3\n",
    "}\n",
    "\n",
    "# Convert the payload to JSON\n",
    "payload_json = json.dumps(payload)\n",
    "\n",
    "# Set the API endpoint URL\n",
    "url = 'http://localhost:5000/predict'  # Replace with your API endpoint URL\n",
    "\n",
    "# Send a POST request to the API endpoint\n",
    "headers = {'Content-Type': 'application/json'}  # Set the Content-Type header\n",
    "response = requests.post(url, data=payload_json, headers=headers)\n",
    "\n",
    "# Check the response status code\n",
    "if response.status_code == 200:\n",
    "    # Get the response data\n",
    "    response_data = response.json()\n",
    "    \n",
    "    # Print the predicted values\n",
    "    predictions = response_data['predictions']\n",
    "    print('Predicted values:', predictions)\n",
    "    \n",
    "    # Get the plot image data\n",
    "    plot_image_data = response_data['plot_image']\n",
    "    \n",
    "    # Decode the image data from base64\n",
    "    image_bytes = base64.b64decode(plot_image_data)\n",
    "    \n",
    "    # Create an image from the bytes\n",
    "    img = Image.open(io.BytesIO(image_bytes))\n",
    "    \n",
    "    # Display the image\n",
    "    img.show()\n",
    "else:\n",
    "    print('Error:', response.status_code)\n"
   ]
  },
  {
   "cell_type": "code",
   "execution_count": null,
   "id": "0ff74396",
   "metadata": {},
   "outputs": [],
   "source": []
  },
  {
   "cell_type": "code",
   "execution_count": null,
   "id": "50b84543",
   "metadata": {},
   "outputs": [],
   "source": []
  }
 ],
 "metadata": {
  "kernelspec": {
   "display_name": "Python 3 (ipykernel)",
   "language": "python",
   "name": "python3"
  },
  "language_info": {
   "codemirror_mode": {
    "name": "ipython",
    "version": 3
   },
   "file_extension": ".py",
   "mimetype": "text/x-python",
   "name": "python",
   "nbconvert_exporter": "python",
   "pygments_lexer": "ipython3",
   "version": "3.8.10"
  }
 },
 "nbformat": 4,
 "nbformat_minor": 5
}
